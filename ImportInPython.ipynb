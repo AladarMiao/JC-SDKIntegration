{
 "cells": [
  {
   "cell_type": "code",
   "execution_count": 9,
   "id": "08769811",
   "metadata": {},
   "outputs": [
    {
     "name": "stdout",
     "output_type": "stream",
     "text": [
      "Current Directory: /mnt/c/Users/alada/JC-Code/JC-SDKIntegration\n",
      "Files in Directory: ['.git', '.ipynb_checkpoints', 'JcSmartDevicePyd.pyd', 'README.md', 'RGBIntegrationScript.cpp', 'RGBIntegrationScript_copy.cpp', 'SDK&Demo_V2.5.1.230517', 'Untitled.ipynb']\n",
      "['/mnt/c/Users/alada/JC-Code/JC-SDKIntegration', '/usr/lib/python310.zip', '/usr/lib/python3.10', '/usr/lib/python3.10/lib-dynload', '', '/home/aladarmiao/.local/lib/python3.10/site-packages', '/usr/local/lib/python3.10/dist-packages', '/usr/lib/python3/dist-packages']\n"
     ]
    }
   ],
   "source": [
    "import os\n",
    "import sys \n",
    "# Get the current directory\n",
    "current_directory = os.getcwd()\n",
    "print(f\"Current Directory: {current_directory}\")\n",
    "\n",
    "# List the files in the current directory\n",
    "files_in_directory = os.listdir(current_directory)\n",
    "print(f\"Files in Directory: {files_in_directory}\")\n",
    "\n",
    "print(sys.path)"
   ]
  },
  {
   "cell_type": "code",
   "execution_count": 4,
   "id": "f883deec",
   "metadata": {},
   "outputs": [
    {
     "ename": "OSError",
     "evalue": "/mnt/c/Users/alada/JC-Code/JC-SDKIntegration/JcSmartDevice2.0.dll: invalid ELF header",
     "output_type": "error",
     "traceback": [
      "\u001b[0;31m---------------------------------------------------------------------------\u001b[0m",
      "\u001b[0;31mOSError\u001b[0m                                   Traceback (most recent call last)",
      "Cell \u001b[0;32mIn[4], line 13\u001b[0m\n\u001b[1;32m      2\u001b[0m \u001b[38;5;66;03m# Define the required structures and function signatures\u001b[39;00m\n\u001b[1;32m      3\u001b[0m \u001b[38;5;66;03m# class JcCmdInDataBase(ctypes.Structure):\u001b[39;00m\n\u001b[1;32m      4\u001b[0m \u001b[38;5;66;03m#     pass\u001b[39;00m\n\u001b[0;32m   (...)\u001b[0m\n\u001b[1;32m      9\u001b[0m \u001b[38;5;66;03m#         (\"m_strDeviceSN\", ctypes.c_char_p)\u001b[39;00m\n\u001b[1;32m     10\u001b[0m \u001b[38;5;66;03m#     ]\u001b[39;00m\n\u001b[1;32m     12\u001b[0m dll_path \u001b[38;5;241m=\u001b[39m \u001b[38;5;124m\"\u001b[39m\u001b[38;5;124m/mnt/c/Users/alada/JC-Code/JC-SDKIntegration/JcSmartDevice2.0.dll\u001b[39m\u001b[38;5;124m\"\u001b[39m\n\u001b[0;32m---> 13\u001b[0m dll \u001b[38;5;241m=\u001b[39m \u001b[43mctypes\u001b[49m\u001b[38;5;241;43m.\u001b[39;49m\u001b[43mcdll\u001b[49m\u001b[38;5;241;43m.\u001b[39;49m\u001b[43mLoadLibrary\u001b[49m\u001b[43m(\u001b[49m\u001b[43mdll_path\u001b[49m\u001b[43m)\u001b[49m\n\u001b[1;32m     15\u001b[0m \u001b[38;5;66;03m# # Define the function with the appropriate argument and return types\u001b[39;00m\n\u001b[1;32m     16\u001b[0m \u001b[38;5;66;03m# init_device = dll.JcInitDevice\u001b[39;00m\n\u001b[1;32m     17\u001b[0m \u001b[38;5;66;03m# init_device.argtypes = [ctypes.c_char_p]\u001b[39;00m\n\u001b[1;32m     18\u001b[0m \u001b[38;5;66;03m# init_device.restype = ctypes.c_void_p\u001b[39;00m\n\u001b[1;32m     19\u001b[0m \n\u001b[1;32m     20\u001b[0m \u001b[38;5;66;03m# Call the function\u001b[39;00m\n\u001b[1;32m     21\u001b[0m sDevSn \u001b[38;5;241m=\u001b[39m \u001b[38;5;124m\"\u001b[39m\u001b[38;5;124m61CF-02\u001b[39m\u001b[38;5;124m\"\u001b[39m\n",
      "File \u001b[0;32m/usr/lib/python3.10/ctypes/__init__.py:452\u001b[0m, in \u001b[0;36mLibraryLoader.LoadLibrary\u001b[0;34m(self, name)\u001b[0m\n\u001b[1;32m    451\u001b[0m \u001b[38;5;28;01mdef\u001b[39;00m \u001b[38;5;21mLoadLibrary\u001b[39m(\u001b[38;5;28mself\u001b[39m, name):\n\u001b[0;32m--> 452\u001b[0m     \u001b[38;5;28;01mreturn\u001b[39;00m \u001b[38;5;28;43mself\u001b[39;49m\u001b[38;5;241;43m.\u001b[39;49m\u001b[43m_dlltype\u001b[49m\u001b[43m(\u001b[49m\u001b[43mname\u001b[49m\u001b[43m)\u001b[49m\n",
      "File \u001b[0;32m/usr/lib/python3.10/ctypes/__init__.py:374\u001b[0m, in \u001b[0;36mCDLL.__init__\u001b[0;34m(self, name, mode, handle, use_errno, use_last_error, winmode)\u001b[0m\n\u001b[1;32m    371\u001b[0m \u001b[38;5;28mself\u001b[39m\u001b[38;5;241m.\u001b[39m_FuncPtr \u001b[38;5;241m=\u001b[39m _FuncPtr\n\u001b[1;32m    373\u001b[0m \u001b[38;5;28;01mif\u001b[39;00m handle \u001b[38;5;129;01mis\u001b[39;00m \u001b[38;5;28;01mNone\u001b[39;00m:\n\u001b[0;32m--> 374\u001b[0m     \u001b[38;5;28mself\u001b[39m\u001b[38;5;241m.\u001b[39m_handle \u001b[38;5;241m=\u001b[39m \u001b[43m_dlopen\u001b[49m\u001b[43m(\u001b[49m\u001b[38;5;28;43mself\u001b[39;49m\u001b[38;5;241;43m.\u001b[39;49m\u001b[43m_name\u001b[49m\u001b[43m,\u001b[49m\u001b[43m \u001b[49m\u001b[43mmode\u001b[49m\u001b[43m)\u001b[49m\n\u001b[1;32m    375\u001b[0m \u001b[38;5;28;01melse\u001b[39;00m:\n\u001b[1;32m    376\u001b[0m     \u001b[38;5;28mself\u001b[39m\u001b[38;5;241m.\u001b[39m_handle \u001b[38;5;241m=\u001b[39m handle\n",
      "\u001b[0;31mOSError\u001b[0m: /mnt/c/Users/alada/JC-Code/JC-SDKIntegration/JcSmartDevice2.0.dll: invalid ELF header"
     ]
    }
   ],
   "source": [
    "import ctypes\n",
    "# Define the required structures and function signatures\n",
    "# class JcCmdInDataBase(ctypes.Structure):\n",
    "#     pass\n",
    "\n",
    "# class JcInitDevice(ctypes.Structure):\n",
    "#     _fields_ = [\n",
    "#         (\"base\", JcCmdInDataBase),\n",
    "#         (\"m_strDeviceSN\", ctypes.c_char_p)\n",
    "#     ]\n",
    "\n",
    "dll_path = \"/mnt/c/Users/alada/JC-Code/JC-SDKIntegration/JcSmartDevice2.0.dll\"\n",
    "dll = ctypes.cdll.LoadLibrary(dll_path)\n",
    "\n",
    "# # Define the function with the appropriate argument and return types\n",
    "# init_device = dll.JcInitDevice\n",
    "# init_device.argtypes = [ctypes.c_char_p]\n",
    "# init_device.restype = ctypes.c_void_p\n",
    "\n",
    "# Call the function\n",
    "sDevSn = \"61CF-02\"\n",
    "param = JcSmartDevicePyd.init_device(sDevSn.encode())\n",
    "\n",
    "# Handle the returned value (if applicable)\n",
    "# ... do something with param ...\n",
    "\n",
    "# Remember to handle memory deallocation if necessary\n",
    "# ... cleanup code ...\n",
    "\n"
   ]
  },
  {
   "cell_type": "code",
   "execution_count": null,
   "id": "492d5e46",
   "metadata": {},
   "outputs": [],
   "source": []
  }
 ],
 "metadata": {
  "kernelspec": {
   "display_name": "Python 3 (ipykernel)",
   "language": "python",
   "name": "python3"
  },
  "language_info": {
   "codemirror_mode": {
    "name": "ipython",
    "version": 3
   },
   "file_extension": ".py",
   "mimetype": "text/x-python",
   "name": "python",
   "nbconvert_exporter": "python",
   "pygments_lexer": "ipython3",
   "version": "3.10.6"
  }
 },
 "nbformat": 4,
 "nbformat_minor": 5
}
