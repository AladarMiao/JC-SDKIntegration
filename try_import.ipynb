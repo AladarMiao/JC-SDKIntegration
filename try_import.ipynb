{
 "cells": [
  {
   "cell_type": "code",
   "execution_count": 8,
   "id": "584ed8a2",
   "metadata": {},
   "outputs": [
    {
     "name": "stdout",
     "output_type": "stream",
     "text": [
      "Current Directory: /mnt/c/Users/alada/JC_Code/JC-SDKIntegration\n"
     ]
    }
   ],
   "source": [
    "import os\n",
    "import sys \n",
    "# Get the current directory\n",
    "current_directory = os.getcwd()\n",
    "print(f\"Current Directory: {current_directory}\")\n",
    "\n",
    "sys.path.append('/mnt/c/Users/alada/JC_Code/JC-SDKIntegration/PyQt5Demo')    "
   ]
  },
  {
   "cell_type": "code",
   "execution_count": 9,
   "id": "7056f724",
   "metadata": {},
   "outputs": [
    {
     "name": "stdout",
     "output_type": "stream",
     "text": [
      "3.8.16 (default, Mar  2 2023, 03:21:46) \n",
      "[GCC 11.2.0]\n"
     ]
    }
   ],
   "source": [
    "print(sys.version)"
   ]
  },
  {
   "cell_type": "code",
   "execution_count": 10,
   "id": "e71b61d4",
   "metadata": {},
   "outputs": [
    {
     "ename": "ModuleNotFoundError",
     "evalue": "No module named 'JcSmartDevicePyd'",
     "output_type": "error",
     "traceback": [
      "\u001b[0;31m---------------------------------------------------------------------------\u001b[0m",
      "\u001b[0;31mModuleNotFoundError\u001b[0m                       Traceback (most recent call last)",
      "Cell \u001b[0;32mIn[10], line 1\u001b[0m\n\u001b[0;32m----> 1\u001b[0m \u001b[38;5;28;01mimport\u001b[39;00m \u001b[38;5;21;01mJcSmartDevicePyd\u001b[39;00m\n\u001b[1;32m      3\u001b[0m \u001b[38;5;28mstr\u001b[39m \u001b[38;5;241m=\u001b[39m\u001b[38;5;124m'\u001b[39m\u001b[38;5;124mversion: \u001b[39m\u001b[38;5;124m'\u001b[39m\u001b[38;5;241m+\u001b[39mJcSmartDevicePyd\u001b[38;5;241m.\u001b[39mSI_PyGetVersion()\n\u001b[1;32m      5\u001b[0m vecDevList \u001b[38;5;241m=\u001b[39m JcSmartDevicePyd\u001b[38;5;241m.\u001b[39mSI_PyGetDeviceList()\n",
      "\u001b[0;31mModuleNotFoundError\u001b[0m: No module named 'JcSmartDevicePyd'"
     ]
    }
   ],
   "source": [
    "import JcSmartDevicePyd\n",
    "\n",
    "str ='version: '+JcSmartDevicePyd.SI_PyGetVersion()\n",
    "\n",
    "vecDevList = JcSmartDevicePyd.SI_PyGetDeviceList()\n",
    "\n",
    "nDevCnt = len(vecDevList)\n",
    "if nDevCnt < 1:\n",
    "    print('No device find.')\n",
    "\n",
    "# JcSmartDevicePyd.eREP_SET_CONFIG_PARAM()\n",
    "print(\"testing import\")\n",
    "print(\"software version:{}\".format(str))"
   ]
  },
  {
   "cell_type": "code",
   "execution_count": null,
   "id": "132e1c0f",
   "metadata": {},
   "outputs": [],
   "source": []
  }
 ],
 "metadata": {
  "kernelspec": {
   "display_name": "myenv",
   "language": "python",
   "name": "myenv"
  },
  "language_info": {
   "codemirror_mode": {
    "name": "ipython",
    "version": 3
   },
   "file_extension": ".py",
   "mimetype": "text/x-python",
   "name": "python",
   "nbconvert_exporter": "python",
   "pygments_lexer": "ipython3",
   "version": "3.8.16"
  }
 },
 "nbformat": 4,
 "nbformat_minor": 5
}
