{
 "cells": [
  {
   "cell_type": "code",
   "execution_count": null,
   "id": "7825b22c",
   "metadata": {},
   "outputs": [],
   "source": [
    "import cv2\n",
    "import numpy as np\n",
    "\n",
    "def count_red_pixels(image):\n",
    "    # Convert the image to BGR color space\n",
    "    image_bgr = cv2.cvtColor(image, cv2.COLOR_GRAY2BGR)\n",
    "\n",
    "    # Define the lower and upper bounds for red color in BGR format\n",
    "    lower_red = np.array([0, 0, 100])\n",
    "    upper_red = np.array([50, 50, 255])\n",
    "\n",
    "    # Threshold the image to get a binary mask of red pixels\n",
    "    mask = cv2.inRange(image_bgr, lower_red, upper_red)\n",
    "\n",
    "    # Count the number of white pixels in the mask\n",
    "    count = cv2.countNonZero(mask)\n",
    "\n",
    "    return count\n"
   ]
  },
  {
   "cell_type": "code",
   "execution_count": null,
   "id": "3d548822",
   "metadata": {},
   "outputs": [],
   "source": [
    "def print_pixel_over_ROI(x,y,w,h):\n",
    "    \n",
    "    # Iterate over each pixel in the image\n",
    "    for row in range(y,y+h):\n",
    "        for col in range(x,x+w):\n",
    "            # Access the pixel value at the current position\n",
    "            pixel = image_gray[row, col]\n",
    "\n",
    "            # Print the pixel value\n",
    "            if pixel>20:\n",
    "                print('Pixel at ({}, {}): {}'.format(row, col, pixel))\n",
    "        "
   ]
  },
  {
   "cell_type": "code",
   "execution_count": null,
   "id": "254b81c4",
   "metadata": {},
   "outputs": [],
   "source": [
    "# image_path = \"/mnt/c/Users/alada/JC_code/RGB_Grayscale_Images/32_0_0.bmp\"\n",
    "image_path = \"/mnt/c/Users/alada/JC_code/RGB_Grayscale_Images/32_0_32.bmp\"\n",
    "# Load the grayscale image\n",
    "image_gray = cv2.imread(image_path, cv2.IMREAD_GRAYSCALE)\n",
    "\n",
    "print_pixel_over_ROI(7000,7000,3000,3000)\n",
    "# Count the number of red pixels\n",
    "# red_pixel_count = count_red_pixels(image_gray)\n",
    "\n",
    "# print(\"Number of red pixels:\", red_pixel_count)"
   ]
  },
  {
   "cell_type": "code",
   "execution_count": null,
   "id": "2b165a75",
   "metadata": {},
   "outputs": [],
   "source": [
    "image_path = \"/mnt/c/Users/alada/JC_code/RGB_Grayscale_Images/32_0_0.bmp\"\n",
    "# image_path = \"/mnt/c/Users/alada/JC_code/RGB_Grayscale_Images/32_0_64.bmp\"\n",
    "# Load the grayscale image\n",
    "image_gray = cv2.imread(image_path, cv2.IMREAD_GRAYSCALE)\n",
    "_, filtered_image = cv2.threshold(image_gray, 20, 255, cv2.THRESH_BINARY)\n",
    "cv2.imwrite(\"/mnt/c/Users/alada/JC_code/RGB_Grayscale_Images/filtered_image/32_0_0.bmp\", filtered_image)"
   ]
  },
  {
   "cell_type": "code",
   "execution_count": null,
   "id": "0d67b2b8",
   "metadata": {},
   "outputs": [],
   "source": [
    "image_path = \"/mnt/c/Users/alada/JC_code/RGB_Grayscale_Images/32_0_64.bmp\"\n",
    "# Load the grayscale image\n",
    "image_gray = cv2.imread(image_path, cv2.IMREAD_GRAYSCALE)\n",
    "\n",
    "# Convert grayscale to BGR\n",
    "img_bgr = cv2.cvtColor(image_gray, cv2.COLOR_GRAY2BGR)\n",
    "\n",
    "# Convert grayscale to HSV\n",
    "img_hsv = cv2.cvtColor(img_bgr, cv2.COLOR_BGR2HSV)\n",
    "\n",
    "# Save the HSV image to your local disk\n",
    "cv2.imwrite(\"/mnt/c/Users/alada/JC_code/RGB_Grayscale_Images/hsv/32_0_64.bmp\", img_hsv)"
   ]
  },
  {
   "cell_type": "code",
   "execution_count": 1,
   "id": "af091677",
   "metadata": {},
   "outputs": [
    {
     "name": "stderr",
     "output_type": "stream",
     "text": [
      "[ WARN:0@0.024] global loadsave.cpp:244 findDecoder imread_('/mnt/c/Users/alada/JC_code/RGB_Grayscale_Images/32_0_32.bmp'): can't open/read file: check file path/integrity\n"
     ]
    },
    {
     "ename": "error",
     "evalue": "OpenCV(4.7.0) /io/opencv/modules/imgcodecs/src/loadsave.cpp:783: error: (-215:Assertion failed) !_img.empty() in function 'imwrite'\n",
     "output_type": "error",
     "traceback": [
      "\u001b[0;31m---------------------------------------------------------------------------\u001b[0m",
      "\u001b[0;31merror\u001b[0m                                     Traceback (most recent call last)",
      "Cell \u001b[0;32mIn[1], line 14\u001b[0m\n\u001b[1;32m     11\u001b[0m _, binary_image \u001b[38;5;241m=\u001b[39m cv2\u001b[38;5;241m.\u001b[39mthreshold(image, \u001b[38;5;241m55\u001b[39m, \u001b[38;5;241m255\u001b[39m, cv2\u001b[38;5;241m.\u001b[39mTHRESH_BINARY)\n\u001b[1;32m     13\u001b[0m \u001b[38;5;66;03m#Save and download to local disk\u001b[39;00m\n\u001b[0;32m---> 14\u001b[0m \u001b[43mcv2\u001b[49m\u001b[38;5;241;43m.\u001b[39;49m\u001b[43mimwrite\u001b[49m\u001b[43m(\u001b[49m\u001b[38;5;124;43m\"\u001b[39;49m\u001b[38;5;124;43m/mnt/c/Users/alada/JC_code/RGB_Grayscale_Images/binary_image/32_0_32.bmp\u001b[39;49m\u001b[38;5;124;43m\"\u001b[39;49m\u001b[43m,\u001b[49m\u001b[43m \u001b[49m\u001b[43mbinary_image\u001b[49m\u001b[43m)\u001b[49m\n\u001b[1;32m     16\u001b[0m \u001b[38;5;66;03m#find contours in the image\u001b[39;00m\n\u001b[1;32m     17\u001b[0m contours, _ \u001b[38;5;241m=\u001b[39m cv2\u001b[38;5;241m.\u001b[39mfindContours(binary_image, cv2\u001b[38;5;241m.\u001b[39mRETR_EXTERNAL, cv2\u001b[38;5;241m.\u001b[39mCHAIN_APPROX_SIMPLE)\n",
      "\u001b[0;31merror\u001b[0m: OpenCV(4.7.0) /io/opencv/modules/imgcodecs/src/loadsave.cpp:783: error: (-215:Assertion failed) !_img.empty() in function 'imwrite'\n"
     ]
    }
   ],
   "source": [
    "#apply threshold, then aspect ratio\n",
    "\n",
    "import cv2\n",
    "import numpy as np\n",
    "\n",
    "image_path = \"/mnt/c/Users/alada/JC_code/RGB_Grayscale_Images/32_0_32.bmp\"\n",
    "# Load the grayscale image\n",
    "image = cv2.imread(image_path, cv2.IMREAD_GRAYSCALE)\n",
    "\n",
    "# apply threshold\n",
    "_, binary_image = cv2.threshold(image, 55, 255, cv2.THRESH_BINARY)\n",
    "\n",
    "#Save and download to local disk\n",
    "cv2.imwrite(\"/mnt/c/Users/alada/JC_code/RGB_Grayscale_Images/binary_image/32_0_32.bmp\", binary_image)\n",
    "\n",
    "#find contours in the image\n",
    "contours, _ = cv2.findContours(binary_image, cv2.RETR_EXTERNAL, cv2.CHAIN_APPROX_SIMPLE)\n",
    "\n",
    "# Iterate over the contours and filter out ovals with a length-to-width ratio:\n",
    "ratio = 1.81\n",
    "\n",
    "filtered_contours = []\n",
    "for contour in contours:\n",
    "    x, y, w, h = cv2.boundingRect(contour)\n",
    "    aspect_ratio = float(w)/h\n",
    "    if aspect_ratio >= ratio:\n",
    "        filtered_contours.append(contour)\n",
    "\n",
    "# Create a mask of the filtered contours\n",
    "mask = np.zeros_like(binary_image)\n",
    "cv2.drawContours(mask, filtered_contours, -1, (255), thickness=cv2.FILLED)\n",
    "\n",
    "#apply the mask\n",
    "filtered_image = cv2.bitwise_and(binary_image, binary_image, mask=mask)\n",
    "\n",
    "#Save and download to local disk\n",
    "filtered_image_path = \"/mnt/c/Users/alada/JC_code/RGB_Grayscale_Images/filtered_image/32_0_32{}.bmp\".format(ratio)\n",
    "cv2.imwrite(filtered_image_path, filtered_image)"
   ]
  },
  {
   "cell_type": "code",
   "execution_count": 2,
   "id": "0f5c19b3",
   "metadata": {},
   "outputs": [
    {
     "name": "stderr",
     "output_type": "stream",
     "text": [
      "[ WARN:0@0.396] global loadsave.cpp:244 findDecoder imread_('/mnt/c/Users/alada/JC_code/RGB_Grayscale_Images/filtered_image/32_0_321.81.bmp'): can't open/read file: check file path/integrity\n"
     ]
    },
    {
     "ename": "ZeroDivisionError",
     "evalue": "division by zero",
     "output_type": "error",
     "traceback": [
      "\u001b[0;31m---------------------------------------------------------------------------\u001b[0m",
      "\u001b[0;31mZeroDivisionError\u001b[0m                         Traceback (most recent call last)",
      "Cell \u001b[0;32mIn[2], line 21\u001b[0m\n\u001b[1;32m     18\u001b[0m     total_white_pixels \u001b[38;5;241m+\u001b[39m\u001b[38;5;241m=\u001b[39m white_pixels\n\u001b[1;32m     19\u001b[0m     total_contours \u001b[38;5;241m+\u001b[39m\u001b[38;5;241m=\u001b[39m \u001b[38;5;241m1\u001b[39m\n\u001b[0;32m---> 21\u001b[0m average_white_pixels \u001b[38;5;241m=\u001b[39m \u001b[43mtotal_white_pixels\u001b[49m\u001b[43m \u001b[49m\u001b[38;5;241;43m/\u001b[39;49m\u001b[43m \u001b[49m\u001b[43mtotal_contours\u001b[49m\n\u001b[1;32m     23\u001b[0m \u001b[38;5;28mprint\u001b[39m(\u001b[38;5;124m\"\u001b[39m\u001b[38;5;124mAverage number of white pixels in each cluster:\u001b[39m\u001b[38;5;124m\"\u001b[39m, average_white_pixels)\n",
      "\u001b[0;31mZeroDivisionError\u001b[0m: division by zero"
     ]
    }
   ],
   "source": [
    "#From inspection, 1.81 seems to perform the best\n",
    "#find number of average red pixels in this image\n",
    "\n",
    "import cv2\n",
    "image_path = \"/mnt/c/Users/alada/JC_code/RGB_Grayscale_Images/filtered_image/32_0_321.81.bmp\"\n",
    "\n",
    "# Load the image in grayscale\n",
    "binary_image = cv2.imread(image_path, cv2.IMREAD_GRAYSCALE)\n",
    "\n",
    "# Find contours in the binary image\n",
    "contours, _ = cv2.findContours(binary_image, cv2.RETR_EXTERNAL, cv2.CHAIN_APPROX_SIMPLE)\n",
    "\n",
    "# Calculate the average number of white pixels in each contour\n",
    "total_white_pixels = 0\n",
    "total_contours = 0\n",
    "for contour in contours:\n",
    "    white_pixels = cv2.contourArea(contour)\n",
    "    total_white_pixels += white_pixels\n",
    "    total_contours += 1\n",
    "\n",
    "average_white_pixels = total_white_pixels / total_contours\n",
    "\n",
    "print(\"Average number of white pixels in each cluster:\", average_white_pixels)"
   ]
  },
  {
   "cell_type": "code",
   "execution_count": null,
   "id": "75719549",
   "metadata": {},
   "outputs": [],
   "source": []
  }
 ],
 "metadata": {
  "kernelspec": {
   "display_name": "tf",
   "language": "python",
   "name": "tf"
  },
  "language_info": {
   "codemirror_mode": {
    "name": "ipython",
    "version": 3
   },
   "file_extension": ".py",
   "mimetype": "text/x-python",
   "name": "python",
   "nbconvert_exporter": "python",
   "pygments_lexer": "ipython3",
   "version": "3.9.16"
  }
 },
 "nbformat": 4,
 "nbformat_minor": 5
}
